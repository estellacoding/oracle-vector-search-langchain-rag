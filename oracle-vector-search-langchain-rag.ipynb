{
 "cells": [
  {
   "cell_type": "code",
   "execution_count": 1,
   "id": "6ed08eda-e2b2-4e6f-9116-ca78d80cc351",
   "metadata": {
    "execution": {
     "iopub.execute_input": "2024-10-03T13:29:10.042953Z",
     "iopub.status.busy": "2024-10-03T13:29:10.042364Z",
     "iopub.status.idle": "2024-10-03T13:29:17.002451Z",
     "shell.execute_reply": "2024-10-03T13:29:17.001489Z",
     "shell.execute_reply.started": "2024-10-03T13:29:10.042925Z"
    }
   },
   "outputs": [],
   "source": [
    "import numpy as np\n",
    "import sys\n",
    "import os\n",
    "import hashlib\n",
    "import json\n",
    "import array\n",
    "from typing import Any, Dict, List, Optional\n",
    "from dotenv import load_dotenv\n",
    "from PyPDF2 import PdfReader\n",
    "import oracledb\n",
    "from langchain.text_splitter import CharacterTextSplitter\n",
    "from langchain.prompts import PromptTemplate\n",
    "from langchain.chains import RetrievalQA\n",
    "from langchain.schema import Document\n",
    "from langchain_openai import ChatOpenAI\n",
    "from langchain_community.llms import Ollama\n",
    "from langchain_huggingface import HuggingFaceEmbeddings\n",
    "from langchain_community.vectorstores.utils import DistanceStrategy\n",
    "\n",
    "import warnings\n",
    "warnings.filterwarnings(\"ignore\", category=FutureWarning, module=\"transformers\")\n",
    "from tqdm import TqdmExperimentalWarning\n",
    "warnings.filterwarnings(\"ignore\", category=TqdmExperimentalWarning)"
   ]
  },
  {
   "cell_type": "markdown",
   "id": "9b188bd4-e177-4d76-b80d-a7db53f6be6a",
   "metadata": {},
   "source": [
    ".env檔案內容\n",
    "```\n",
    "username = 'HR'\n",
    "password = 'oracle'\n",
    "dsn = 'localhost:1521/freepdb1'\n",
    "COMPARTMENT_OCID =\n",
    "OPENAI_API_KEY = ''\n",
    "```"
   ]
  },
  {
   "cell_type": "code",
   "execution_count": 2,
   "id": "282c9b68-6169-423b-a2e3-69a3f4d7a382",
   "metadata": {
    "execution": {
     "iopub.execute_input": "2024-10-03T13:29:17.004851Z",
     "iopub.status.busy": "2024-10-03T13:29:17.004433Z",
     "iopub.status.idle": "2024-10-03T13:29:17.017189Z",
     "shell.execute_reply": "2024-10-03T13:29:17.016614Z",
     "shell.execute_reply.started": "2024-10-03T13:29:17.004827Z"
    }
   },
   "outputs": [],
   "source": [
    "# 加載環境變量\n",
    "load_dotenv()\n",
    "username = os.getenv(\"username\")\n",
    "password = os.getenv(\"password\")\n",
    "dsn = os.getenv(\"dsn\")\n",
    "COMPARTMENT_OCID = os.getenv(\"Compartment_OCID\")\n",
    "openai_api_key = os.getenv(\"OPENAI_API_KEY\")"
   ]
  },
  {
   "cell_type": "code",
   "execution_count": 3,
   "id": "3013faf7-bc92-41bf-abd4-5465eee921b9",
   "metadata": {
    "execution": {
     "iopub.execute_input": "2024-10-03T13:29:17.021257Z",
     "iopub.status.busy": "2024-10-03T13:29:17.020930Z",
     "iopub.status.idle": "2024-10-03T13:29:19.865471Z",
     "shell.execute_reply": "2024-10-03T13:29:19.863216Z",
     "shell.execute_reply.started": "2024-10-03T13:29:17.021233Z"
    }
   },
   "outputs": [
    {
     "name": "stdout",
     "output_type": "stream",
     "text": [
      "資料庫連接成功！\n"
     ]
    }
   ],
   "source": [
    "# 建立Oracle資料庫連接\n",
    "try:\n",
    "    client = oracledb.connect(user=username, password=password, dsn=dsn)\n",
    "    print(\"資料庫連接成功！\")\n",
    "except Exception as e:\n",
    "    print(\"資料庫連接失敗！\", e)\n",
    "    sys.exit(1)\n",
    "\n",
    "# 表存在刪除,不存在則創建\n",
    "table_name = \"VECTOR_PDF_DEMO\"\n",
    "with client.cursor() as cursor:\n",
    "    cursor.execute(f\"\"\"\n",
    "        DECLARE\n",
    "            table_count NUMBER;\n",
    "        BEGIN\n",
    "            SELECT COUNT(*)\n",
    "            INTO table_count\n",
    "            FROM all_tables\n",
    "            WHERE table_name = :table_name\n",
    "              AND owner = :owner;\n",
    "            IF table_count > 0 THEN\n",
    "                EXECUTE IMMEDIATE 'DROP TABLE {table_name}';\n",
    "            END IF;\n",
    "            EXECUTE IMMEDIATE '\n",
    "                CREATE TABLE {table_name} (\n",
    "                    id VARCHAR2(32) PRIMARY KEY,\n",
    "                    text CLOB,\n",
    "                    metadata CLOB,\n",
    "                    embedding BLOB\n",
    "                )\n",
    "            ';\n",
    "        END;\n",
    "    \"\"\", {\"table_name\": table_name.upper(), \"owner\": client.username.upper()})\n",
    "    client.commit()"
   ]
  },
  {
   "cell_type": "code",
   "execution_count": 4,
   "id": "c4f27eaf-1ca2-443d-af0e-9c6bf5fa49cd",
   "metadata": {
    "execution": {
     "iopub.execute_input": "2024-10-03T13:29:19.868548Z",
     "iopub.status.busy": "2024-10-03T13:29:19.867936Z",
     "iopub.status.idle": "2024-10-03T13:29:33.024790Z",
     "shell.execute_reply": "2024-10-03T13:29:33.024024Z",
     "shell.execute_reply.started": "2024-10-03T13:29:19.868519Z"
    },
    "scrolled": true
   },
   "outputs": [
    {
     "name": "stdout",
     "output_type": "stream",
     "text": [
      "文檔'202402_2330_AI1_20241003_160741.pdf'已加載，共95頁。\n",
      "已將PDF文檔轉換為純文本。\n",
      "已將文本分割為 214 個chunks。\n",
      "已為每個文本塊創建Document對象。\n"
     ]
    }
   ],
   "source": [
    "# 讀取PDF文檔\n",
    "pdf_path = '202402_2330_AI1_20241003_160741.pdf'\n",
    "try:\n",
    "    pdf = PdfReader(pdf_path)\n",
    "    print(f\"文檔'{pdf_path}'已加載，共{len(pdf.pages)}頁。\")\n",
    "except Exception as e:\n",
    "    print(f\"無法加載PDF文檔 '{pdf_path}'：\", e)\n",
    "    sys.exit(1)\n",
    "\n",
    "# 將PDF轉換為純文本\n",
    "text = \"\"\n",
    "for page_num, page in enumerate(pdf.pages, start=1):\n",
    "    page_text = page.extract_text()\n",
    "    if page_text:\n",
    "        text += page_text\n",
    "print(\"已將PDF文檔轉換為純文本。\")\n",
    "\n",
    "# 將文本拆分為chunks\n",
    "text_splitter = CharacterTextSplitter(separator=\"\\n\", chunk_size=800, chunk_overlap=100, length_function=len)\n",
    "chunks = text_splitter.split_text(text)\n",
    "print(f\"已將文本分割為 {len(chunks)} 個chunks。\")\n",
    "\n",
    "# 為每個chunk創建Document\n",
    "docs = [\n",
    "    Document(page_content=chunk_text, metadata={'id': str(page_num), 'link': f'Page {page_num}'})\n",
    "    for page_num, chunk_text in enumerate(chunks, start=1)\n",
    "]\n",
    "print(\"已為每個文本塊創建Document對象。\")\n",
    "\n",
    "# 為每個Document生成唯一的ID\n",
    "unique_ids = [hashlib.sha256(metadata['id'].encode()).hexdigest()[:16].upper() for metadata in (doc.metadata for doc in docs)]"
   ]
  },
  {
   "cell_type": "code",
   "execution_count": 5,
   "id": "97836abf-c428-4d3f-a7d5-4b5859138380",
   "metadata": {
    "execution": {
     "iopub.execute_input": "2024-10-03T13:29:33.025592Z",
     "iopub.status.busy": "2024-10-03T13:29:33.025392Z",
     "iopub.status.idle": "2024-10-03T13:31:17.081696Z",
     "shell.execute_reply": "2024-10-03T13:31:17.076536Z",
     "shell.execute_reply.started": "2024-10-03T13:29:33.025575Z"
    }
   },
   "outputs": [
    {
     "name": "stdout",
     "output_type": "stream",
     "text": [
      "已將chunk向量化並儲存到Oracle資料庫中。\n"
     ]
    }
   ],
   "source": [
    "# 使用HuggingFaceEmbeddings模型來將文本轉換為向量\n",
    "model_4db = HuggingFaceEmbeddings(model_name=\"sentence-transformers/all-MiniLM-L6-v2\")\n",
    "embeddings_vectors = model_4db.embed_documents([doc.page_content for doc in docs])\n",
    "\n",
    "# 將每個Document對象的數據打包成元組\n",
    "docs_data = [\n",
    "    (id_, doc.page_content, json.dumps(doc.metadata), array.array('f', embedding).tobytes())\n",
    "    for id_, doc, embedding in zip(unique_ids, docs, embeddings_vectors)\n",
    "]\n",
    "\n",
    "# docs_data插入資料庫\n",
    "with client.cursor() as cursor:\n",
    "    cursor.executemany(\n",
    "        f\"INSERT INTO {table_name} (id, text, metadata, embedding) VALUES (:1, :2, :3, :4)\",\n",
    "        docs_data\n",
    "    )\n",
    "client.commit()\n",
    "print(\"已將chunk向量化並儲存到Oracle資料庫中。\")"
   ]
  },
  {
   "cell_type": "code",
   "execution_count": 6,
   "id": "a7a51d79-3447-494b-9002-19ce1f3029fa",
   "metadata": {
    "execution": {
     "iopub.execute_input": "2024-10-03T13:31:17.086501Z",
     "iopub.status.busy": "2024-10-03T13:31:17.086005Z",
     "iopub.status.idle": "2024-10-03T13:31:17.847666Z",
     "shell.execute_reply": "2024-10-03T13:31:17.847086Z",
     "shell.execute_reply.started": "2024-10-03T13:31:17.086474Z"
    }
   },
   "outputs": [
    {
     "name": "stdout",
     "output_type": "stream",
     "text": [
      "用戶問題： 政府補助計畫及金額\n",
      "檢索結果的內容:  政府機構不動產抵押貸款\n",
      "債券                                             \n",
      " FEDERAL NATIONAL \n",
      "MORTGAGE \n",
      "ASSOCIATION  透過其他綜合損益按公\n",
      "允價值衡量之金融資\n",
      "產 － －    -   USD  658,944     -   USD  109,034     -   USD  75,467    USD  75,803   ( USD  336 )    -   USD  681,471  \n",
      " Federal Home Loan \n",
      "Mortgage Corporation  〃 － －    -   USD  350,328     -   USD  85,692     -   USD  53,041    USD  53,564   ( USD  523 )    -   USD  377,819  \n",
      " Government National \n",
      "Mortgage Association  〃 － －    -   USD  225,310     -   USD  75,996     -   USD  28,822    USD  29,230   ( USD  408 )    -   USD  267,948  \n",
      "                                             \n",
      " 政府公債 ／政府機構債券                                             \n",
      " United States \n",
      "Department of The \n",
      "Treasury  透過其他綜合損益按公\n",
      "允價值衡量之金融資\n",
      "檢索結果的內容:  JASM及台積電南京等子公司，因計畫於當地設廠營運而分別取得\n",
      "日本及中國政府之補助款，主要用於補貼不動產、廠房及設備之購置成\n",
      "本，以及建造廠房與生產營運所產生之部分成本與費用。上述計畫於\n",
      "113年及 112年1月1日至 6月30日合計分別取得政府補助款 7,956,680\n",
      "仟元及 10,311,820 仟元。  \n",
      "二九、  現金流量資訊  \n",
      " (一) 非現金交易  \n",
      "  113年1月1日 \n",
      "至6月30日  112年1月1日 \n",
      "至6月30日 \n",
      "透過其他綜合損益按公允價值\n",
      "衡量之金融資產增加數     $ 44,788,275     $ 37,030,330  \n",
      "可轉換公司債轉換為權益工具      -   (  145,144  ) \n",
      "應付費用及其他流動負債變動\n",
      "數   (  1,008,095  )   (  3,421,160  ) \n",
      "取得透過其他綜合損益按公允\n",
      "價值衡量之金融資產支付現\n",
      "金數     $ 43,780,180     $ 33,464,026  \n",
      "     \n",
      "處分透過其他綜合損益按公允\n",
      "價值衡量之金融資產價款     $ 28,770,436     $ 20,886,895  \n",
      "其他金融資產變動數    (  355,647  )   (  866,980  ) \n",
      "處分透過其他綜合損益按公允\n",
      "價值衡量之金融資產收取現\n",
      "金數     $ 28,414,789     $ 20,019,915  \n",
      "（接次頁） \n",
      "- 39 - （承前頁）  \n",
      " \n",
      "  113年1月1日 \n",
      "至6月30日  112年1月1日 \n",
      "至6月30日 \n",
      "不動產、廠房及設備增加數     $ 342,411,873     $ 483,421,429  \n",
      "其他金融資產變動數      -     44,431  \n",
      "資產交換    (  47,626  )     -\n",
      "檢索結果的內容:  （註三）  實際動支金額  \n",
      "（外幣為仟元）  利率區間  資 金 貸 與 性 質  業務往來  \n",
      "金額  有短期融通資\n",
      "金必要之原因  提 列 備 抵  \n",
      "呆 帳 金 額  擔保品  對個別對象  \n",
      "資金貸與限額  \n",
      "（註一及二）  資金貸與  \n",
      "總限額  \n",
      "（ 註 一 及 二 ）  名稱  價值  \n",
      "0 台積公司  TSMC Arizona  其他應收關係人\n",
      "款項  是   $ 97,470,000  \n",
      " ( USD  3,000,000  )   $ -   $ - - 有短期融通資金\n",
      "之必要    $ - 產能建置及營\n",
      "運資金    $ - －   $ -   $ 379,140,287    $ 758,280,575  \n",
      "1 台積電中國子公\n",
      "司 台積電南京子公司  其他應收關係人\n",
      "款項  是    53,970,580  \n",
      " ( RMB  8,800,000  )& \n",
      " ( USD  450,000  )    50,393,300  \n",
      " ( RMB  8,000,000  )& \n",
      " ( USD  450,000  )    35,772,800  \n",
      " ( RMB  8,000,000  ) 1.30%~1.50%  有長短期融通資\n",
      "金之必要     - 營運週轉     - －    -    104,136,083     104,136,083  \n",
      " \n",
      "註一：  台積公司 對 TSMC  Ar i z o na 從事資金 貸與， 其個別 資金 貸與之金 額不得 超過台 積公 司淨值百 分之十 ，且台 積公 司資金貸 與他人 之總額 不得 超過台積 公司淨 值百分 之二 十。  \n",
      "註二：  台積電中 國子公 司對台 積電 南京子公 司從事 資金貸 與， 其資金貸 與之總 額不得 超過 台積電中 國子公 司淨值 。  \n",
      "註三：  係董事會 決議之 金額。\n",
      "檢索結果的內容:  險，因為利率期貨合約之價值並未考慮被避險金融資產之信用風險。\n",
      "於避險期間並未出現避險無效性之其他來源。避險無效性淨（損）益\n",
      "係帳列於其他利益及損失淨額。   \n",
      "- 18 -   本公司之利率風險避險資訊彙總如下：  \n",
      "113年6月30日 \n",
      "避 險 工 具   合約金額  \n",
      "（美金為仟元）   到期期間  \n",
      "利率期貨合約－美國公債期貨     USD  18,000   113年9月 \n",
      " \n",
      "被 避 險 項 目   資 產 帳 面 金 額   避 險 相 關 累 計  \n",
      "公允價值調整數  \n",
      "透過其他綜合損益按公允價值\n",
      "衡量之金融資產     $ 1,721,119     $ 2,115  \n",
      " \n",
      "112年12月31日 \n",
      "避 險 工 具   合約金額  \n",
      "（美金為仟元）   到期期間  \n",
      "利率期貨合約－美國公債期貨     USD  48,600   113年3月 \n",
      " \n",
      "被 避 險 項 目   資 產 帳 面 金 額   避 險 相 關 累 計  \n",
      "公允價值調整數  \n",
      "透過其他綜合損益按公允價值\n",
      "衡量之金融資產   \n",
      "  $ 3,959,523     $ 43,764  \n",
      " \n",
      "112年6月30日 \n",
      "避 險 工 具   合約金額  \n",
      "（美金為仟元）   到期期間  \n",
      "利率期貨合約－美國公債期貨     USD  55,800   112年9月 \n",
      " \n",
      "被 避 險 項 目   資 產 帳 面 金 額   避 險 相 關 累 計  \n",
      "公允價值調整數  \n",
      "透過其他綜合損益按公允價值\n",
      "衡量之金融資產     $ 3,475,661    ( $ 29,704  ) \n",
      " \n",
      "  113年及 112年1月1日至 6月30日影響如下：  \n",
      "  評 估 避 險 無 效 性 之 價 值 變 動  \n",
      "避 險 工 具 ／ 被 避 險 項 目   113年1月1日 \n",
      "至6月30日  112年1月1日\n"
     ]
    }
   ],
   "source": [
    "# 用戶提問\n",
    "user_question = \"政府補助計畫及金額\"\n",
    "print(\"用戶問題：\", user_question)\n",
    "\n",
    "# 檢索相似文檔\n",
    "query_embedding = model_4db.embed_query(user_question)\n",
    "\n",
    "with client.cursor() as cursor:\n",
    "    cursor.execute(f\"SELECT text, metadata, embedding FROM {table_name}\")\n",
    "    rows = cursor.fetchall()\n",
    "\n",
    "scored_docs = []\n",
    "query_vector = np.array(query_embedding)\n",
    "for row in rows:\n",
    "    text_lob, metadata_json_lob, embedding_blob = row\n",
    "    # 將CLOB轉換為字符串\n",
    "    text = text_lob.read()\n",
    "    # 讀取CLOB並轉換為JSON\n",
    "    metadata = json.loads(metadata_json_lob.read())  \n",
    "    # 處理向量資料\n",
    "    embedding_bytes = embedding_blob.read()\n",
    "    db_vector = np.frombuffer(embedding_bytes, dtype=np.float32).tolist()\n",
    "    # 計算相似度\n",
    "    db_vector_np = np.array(db_vector)\n",
    "    score = np.dot(query_vector, db_vector_np)\n",
    "    # 將文檔及其分數加入列表\n",
    "    doc = Document(page_content=text, metadata=metadata)\n",
    "    scored_docs.append((doc, score))\n",
    "\n",
    "# 按分數排序並返回前k個文檔\n",
    "scored_docs.sort(key=lambda x: x[1], reverse=True)\n",
    "top_docs = [doc for doc, score in scored_docs[:4]]\n",
    "# 將相似文檔組合成上下文\n",
    "context = \"\\n\".join([doc.page_content for doc in top_docs])\n",
    "\n",
    "# 查看每個檢索到的文檔內容\n",
    "for doc in top_docs:\n",
    "    print(\"檢索結果的內容: \", doc.page_content)"
   ]
  },
  {
   "cell_type": "markdown",
   "id": "57bdb218-7d50-4b56-bd4b-892d15bedcbd",
   "metadata": {},
   "source": [
    "用戶問題： 政府補助計畫及金額\n",
    "\n",
    "答案:\n",
    "![](./image/政府補助.png)"
   ]
  },
  {
   "cell_type": "code",
   "execution_count": 7,
   "id": "8e34518c-fc08-4907-a392-2244f3b2bd42",
   "metadata": {
    "execution": {
     "iopub.execute_input": "2024-10-03T13:31:17.848576Z",
     "iopub.status.busy": "2024-10-03T13:31:17.848358Z",
     "iopub.status.idle": "2024-10-03T13:31:30.124359Z",
     "shell.execute_reply": "2024-10-03T13:31:30.122324Z",
     "shell.execute_reply.started": "2024-10-03T13:31:17.848556Z"
    }
   },
   "outputs": [
    {
     "name": "stdout",
     "output_type": "stream",
     "text": [
      "回答： 根據提供的資訊，公司已分別從日本和中國政府取得補助款，主要用於補貼不動產、廠房及設備的購置成本，以及建造廠房與生產營運產生的部分成本與費用。該計畫於113年及112年1月1日至6月30日，合計分別取得政府補助款7,956,680仟元及10,311,820仟元。\n",
      "---------------------------------------------------------------------------------------------------\n",
      "恭喜🎉！您已成功完成了RAG應用程序，使用Oracle Database 23ai和LangChain實現了向量檢索和問答功能。\n"
     ]
    }
   ],
   "source": [
    "# 問答提示詞模板\n",
    "template = \"\"\"根據以下內容回答問題：\n",
    "{context}\n",
    "問題：{question}\"\"\"\n",
    "prompt = PromptTemplate.from_template(template)\n",
    "input_prompt = prompt.format(context=context, question=user_question)\n",
    "\n",
    "# 初始化OpenAI的GPT-4模型\n",
    "llm = ChatOpenAI(model_name='gpt-4', openai_api_key=openai_api_key, temperature=0.8, max_tokens=2000)\n",
    "\n",
    "# 生成答案\n",
    "response = llm.invoke(input_prompt)\n",
    "print(\"回答：\", response.content)\n",
    "print('-'*99)\n",
    "print(\"恭喜🎉！您已成功完成了RAG應用程序，使用Oracle Database 23ai和LangChain實現了向量檢索和問答功能。\")"
   ]
  },
  {
   "cell_type": "code",
   "execution_count": null,
   "id": "c64fae2a-464d-47ab-8b3b-bb6615c6092f",
   "metadata": {},
   "outputs": [],
   "source": []
  },
  {
   "cell_type": "code",
   "execution_count": null,
   "id": "024c7779-2c36-42ca-9cc9-68441154e0fd",
   "metadata": {},
   "outputs": [],
   "source": []
  }
 ],
 "metadata": {
  "kernelspec": {
   "display_name": "py-env",
   "language": "python",
   "name": "py-env"
  },
  "language_info": {
   "codemirror_mode": {
    "name": "ipython",
    "version": 3
   },
   "file_extension": ".py",
   "mimetype": "text/x-python",
   "name": "python",
   "nbconvert_exporter": "python",
   "pygments_lexer": "ipython3",
   "version": "3.12.5"
  }
 },
 "nbformat": 4,
 "nbformat_minor": 5
}
